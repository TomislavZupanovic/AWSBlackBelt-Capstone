{
 "cells": [
  {
   "cell_type": "code",
   "execution_count": 13,
   "metadata": {},
   "outputs": [],
   "source": [
    "# Imports\n",
    "from pathlib import Path\n",
    "import pandas as pd"
   ]
  },
  {
   "cell_type": "code",
   "execution_count": 23,
   "metadata": {},
   "outputs": [],
   "source": [
    "def load_raw_data(txt_filename: str) -> pd.DataFrame:\n",
    "    \"\"\" Loads the .txt data from the Data folder as pandas DataFrame \n",
    "        :argument: txt_filename - name of the text file with .txt extension\n",
    "        :return: dataframe - pandas DataFrame\n",
    "    \"\"\"\n",
    "    # Define the data folder path\n",
    "    data_path = Path().absolute().parent.joinpath('data', 'raw')\n",
    "    # Open with pandas without header and space as separator\n",
    "    dataframe = pd.read_csv(data_path.joinpath(txt_filename), sep=' ', header=None)\n",
    "    return dataframe"
   ]
  },
  {
   "cell_type": "code",
   "execution_count": 25,
   "metadata": {},
   "outputs": [],
   "source": [
    "engine_1 = load_raw_data('train_FD001.txt')"
   ]
  },
  {
   "cell_type": "code",
   "execution_count": 30,
   "metadata": {},
   "outputs": [
    {
     "name": "stdout",
     "output_type": "stream",
     "text": [
      "<class 'pandas.core.frame.DataFrame'>\n",
      "RangeIndex: 20631 entries, 0 to 20630\n",
      "Data columns (total 28 columns):\n",
      " #   Column  Non-Null Count  Dtype  \n",
      "---  ------  --------------  -----  \n",
      " 0   0       20631 non-null  int64  \n",
      " 1   1       20631 non-null  int64  \n",
      " 2   2       20631 non-null  float64\n",
      " 3   3       20631 non-null  float64\n",
      " 4   4       20631 non-null  float64\n",
      " 5   5       20631 non-null  float64\n",
      " 6   6       20631 non-null  float64\n",
      " 7   7       20631 non-null  float64\n",
      " 8   8       20631 non-null  float64\n",
      " 9   9       20631 non-null  float64\n",
      " 10  10      20631 non-null  float64\n",
      " 11  11      20631 non-null  float64\n",
      " 12  12      20631 non-null  float64\n",
      " 13  13      20631 non-null  float64\n",
      " 14  14      20631 non-null  float64\n",
      " 15  15      20631 non-null  float64\n",
      " 16  16      20631 non-null  float64\n",
      " 17  17      20631 non-null  float64\n",
      " 18  18      20631 non-null  float64\n",
      " 19  19      20631 non-null  float64\n",
      " 20  20      20631 non-null  float64\n",
      " 21  21      20631 non-null  int64  \n",
      " 22  22      20631 non-null  int64  \n",
      " 23  23      20631 non-null  float64\n",
      " 24  24      20631 non-null  float64\n",
      " 25  25      20631 non-null  float64\n",
      " 26  26      0 non-null      float64\n",
      " 27  27      0 non-null      float64\n",
      "dtypes: float64(24), int64(4)\n",
      "memory usage: 4.4 MB\n"
     ]
    }
   ],
   "source": [
    "engine_1.info()"
   ]
  },
  {
   "cell_type": "code",
   "execution_count": null,
   "metadata": {},
   "outputs": [],
   "source": []
  }
 ],
 "metadata": {
  "interpreter": {
   "hash": "66fa32929a816d9dbc40affec3dc1bdbae5c545f8224a712cf402b1f41060051"
  },
  "kernelspec": {
   "display_name": "Python 3.8.10 64-bit ('.venv': venv)",
   "language": "python",
   "name": "python3"
  },
  "language_info": {
   "codemirror_mode": {
    "name": "ipython",
    "version": 3
   },
   "file_extension": ".py",
   "mimetype": "text/x-python",
   "name": "python",
   "nbconvert_exporter": "python",
   "pygments_lexer": "ipython3",
   "version": "3.8.10"
  },
  "orig_nbformat": 4
 },
 "nbformat": 4,
 "nbformat_minor": 2
}
